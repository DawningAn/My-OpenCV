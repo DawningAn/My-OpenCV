{
 "cells": [
  {
   "cell_type": "code",
   "execution_count": 1,
   "metadata": {
    "collapsed": true
   },
   "outputs": [],
   "source": [
    "import cv2  #opencv读取的格式是BGR\n",
    "import numpy as np"
   ]
  },
  {
   "cell_type": "markdown",
   "source": [
    "### Canny边缘检测\n",
    "-      使用高斯滤波器，以平滑图像，滤除噪声。\n",
    "\n",
    "-      计算图像中每个像素点的梯度强度和方向。\n",
    "\n",
    "-      应用非极大值（Non-Maximum Suppression）抑制，以消除边缘检测带来的杂散响应。\n",
    "\n",
    "-      应用双阈值（Double-Threshold）检测来确定真实的和潜在的边缘。\n",
    "\n",
    "-      通过抑制孤立的弱边缘最终完成边缘检测。"
   ],
   "metadata": {
    "collapsed": false
   }
  },
  {
   "cell_type": "markdown",
   "source": [
    "#### 1:高斯滤波器"
   ],
   "metadata": {
    "collapsed": false
   }
  },
  {
   "cell_type": "markdown",
   "source": [
    "![title](canny_1.png)"
   ],
   "metadata": {
    "collapsed": false
   }
  },
  {
   "cell_type": "markdown",
   "source": [
    "#### 2:梯度和方向"
   ],
   "metadata": {
    "collapsed": false
   }
  },
  {
   "cell_type": "markdown",
   "source": [
    "![title](canny_2.png)"
   ],
   "metadata": {
    "collapsed": false
   }
  },
  {
   "cell_type": "markdown",
   "source": [
    "#### 3：非极大值抑制"
   ],
   "metadata": {
    "collapsed": false
   }
  },
  {
   "cell_type": "markdown",
   "source": [
    "![title](canny_3.png)"
   ],
   "metadata": {
    "collapsed": false
   }
  },
  {
   "cell_type": "markdown",
   "source": [
    "![title](canny_6.png)"
   ],
   "metadata": {
    "collapsed": false
   }
  },
  {
   "cell_type": "markdown",
   "source": [
    "#### 4：双阈值检测"
   ],
   "metadata": {
    "collapsed": false
   }
  },
  {
   "cell_type": "markdown",
   "source": [
    "![title](canny_5.png)"
   ],
   "metadata": {
    "collapsed": false
   }
  },
  {
   "cell_type": "code",
   "execution_count": 3,
   "outputs": [],
   "source": [
    "def cv_show(img,name):\n",
    "    cv2.imshow(name,img)\n",
    "    cv2.waitKey()\n",
    "    cv2.destroyAllWindows()\n",
    "\n",
    "img=cv2.imread(\"lena.jpg\",cv2.IMREAD_GRAYSCALE)\n",
    "v1=cv2.Canny(img,80,150)\n",
    "v2=cv2.Canny(img,50,100)\n",
    "\n",
    "res = np.hstack((v1,v2))\n",
    "cv_show(res,'res')"
   ],
   "metadata": {
    "collapsed": false
   }
  },
  {
   "cell_type": "code",
   "execution_count": 4,
   "outputs": [],
   "source": [
    "img=cv2.imread(\"car.png\",cv2.IMREAD_GRAYSCALE)\n",
    "\n",
    "v1=cv2.Canny(img,120,250)\n",
    "v2=cv2.Canny(img,50,100)\n",
    "\n",
    "res = np.hstack((v1,v2))\n",
    "cv_show(res,'res')"
   ],
   "metadata": {
    "collapsed": false
   }
  },
  {
   "cell_type": "code",
   "execution_count": null,
   "outputs": [],
   "source": [],
   "metadata": {
    "collapsed": false
   }
  }
 ],
 "metadata": {
  "kernelspec": {
   "display_name": "Python 3",
   "language": "python",
   "name": "python3"
  },
  "language_info": {
   "codemirror_mode": {
    "name": "ipython",
    "version": 2
   },
   "file_extension": ".py",
   "mimetype": "text/x-python",
   "name": "python",
   "nbconvert_exporter": "python",
   "pygments_lexer": "ipython2",
   "version": "2.7.6"
  }
 },
 "nbformat": 4,
 "nbformat_minor": 0
}
