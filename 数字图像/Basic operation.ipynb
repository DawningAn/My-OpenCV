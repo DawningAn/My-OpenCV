{
 "cells": [
  {
   "cell_type": "code",
   "execution_count": 27,
   "metadata": {
    "collapsed": true
   },
   "outputs": [],
   "source": [
    "import cv2\n",
    "import matplotlib.pyplot as plt\n",
    "import numpy as np"
   ]
  },
  {
   "cell_type": "code",
   "execution_count": 28,
   "outputs": [],
   "source": [
    "img = cv2.imread('cat.jpg')"
   ],
   "metadata": {
    "collapsed": false
   }
  },
  {
   "cell_type": "code",
   "execution_count": 29,
   "outputs": [],
   "source": [
    "cv2.imshow('image', img)\n",
    "# 等待时间,毫秒级，0代表任意键终止\n",
    "cv2.waitKey(0)\n",
    "cv2.destroyAllWindows()"
   ],
   "metadata": {
    "collapsed": false
   }
  },
  {
   "cell_type": "code",
   "execution_count": 30,
   "outputs": [],
   "source": [
    "def cv_show(name, image):\n",
    "    cv2.imshow('image', img)\n",
    "    # 等待时间\n",
    "    cv2.waitKey(0)\n",
    "    cv2.destroyAllWindows()"
   ],
   "metadata": {
    "collapsed": false
   }
  },
  {
   "cell_type": "code",
   "execution_count": 31,
   "outputs": [
    {
     "data": {
      "text/plain": "(414, 500, 3)"
     },
     "execution_count": 31,
     "metadata": {},
     "output_type": "execute_result"
    }
   ],
   "source": [
    "img.shape"
   ],
   "metadata": {
    "collapsed": false
   }
  },
  {
   "cell_type": "code",
   "execution_count": 32,
   "outputs": [],
   "source": [
    "img = cv2.imread('cat.jpg', cv2.IMREAD_GRAYSCALE)\n",
    "cv_show('image', img)"
   ],
   "metadata": {
    "collapsed": false
   }
  },
  {
   "cell_type": "code",
   "execution_count": 33,
   "outputs": [
    {
     "data": {
      "text/plain": "(414, 500)"
     },
     "execution_count": 33,
     "metadata": {},
     "output_type": "execute_result"
    }
   ],
   "source": [
    "img.shape"
   ],
   "metadata": {
    "collapsed": false
   }
  },
  {
   "cell_type": "code",
   "execution_count": 34,
   "outputs": [
    {
     "data": {
      "text/plain": "True"
     },
     "execution_count": 34,
     "metadata": {},
     "output_type": "execute_result"
    }
   ],
   "source": [
    "cv2.imwrite('gray_cat.png', img)"
   ],
   "metadata": {
    "collapsed": false
   }
  },
  {
   "cell_type": "code",
   "execution_count": 35,
   "outputs": [],
   "source": [
    "# 读取视频流\n",
    "vc = cv2.VideoCapture(\"地球.mp4\")"
   ],
   "metadata": {
    "collapsed": false
   }
  },
  {
   "cell_type": "code",
   "execution_count": 36,
   "outputs": [],
   "source": [
    "if vc.isOpened():\n",
    "    # 按帧读取\n",
    "    open, frame = vc.read()\n",
    "else:\n",
    "    open = False"
   ],
   "metadata": {
    "collapsed": false
   }
  },
  {
   "cell_type": "code",
   "execution_count": 37,
   "outputs": [],
   "source": [
    "while open:\n",
    "    ret, frame = vc.read()\n",
    "    if frame is None:\n",
    "        break\n",
    "    if ret == True:\n",
    "        gray = cv2.cvtColor(frame, cv2.IMREAD_GRAYSCALE)\n",
    "        cv2.imshow('result', gray)\n",
    "        if cv2.waitKey(10) & 0xFF == 27:\n",
    "            break\n",
    "vc.release()\n",
    "cv2.destroyAllWindows()"
   ],
   "metadata": {
    "collapsed": false
   }
  },
  {
   "cell_type": "markdown",
   "source": [
    "## 截取部分图像数据"
   ],
   "metadata": {
    "collapsed": false
   }
  },
  {
   "cell_type": "code",
   "execution_count": 38,
   "outputs": [],
   "source": [
    "img = cv2.imread('cat.jpg')\n",
    "cat = img[0:10, 0:20]\n",
    "cv_show('cat', cat)"
   ],
   "metadata": {
    "collapsed": false
   }
  },
  {
   "cell_type": "code",
   "execution_count": 39,
   "outputs": [],
   "source": [
    "b,g,r = cv2.split(cat)"
   ],
   "metadata": {
    "collapsed": false
   }
  },
  {
   "cell_type": "code",
   "execution_count": 40,
   "outputs": [
    {
     "data": {
      "text/plain": "array([[142, 146, 151, 150, 142, 130, 119, 113, 109, 100,  98, 104, 105,\n         96,  87,  81,  91, 103, 117, 120],\n       [108, 112, 118, 119, 117, 111, 108, 106, 100,  97, 101, 105, 103,\n         95,  95,  97, 109, 123, 139, 146],\n       [108, 110, 118, 119, 122, 121, 125, 124, 118, 121, 130, 129, 124,\n        116, 123, 130, 143, 150, 161, 164],\n       [139, 141, 148, 148, 151, 149, 152, 152, 154, 159, 168, 165, 160,\n        152, 157, 158, 164, 166, 172, 168],\n       [153, 156, 163, 164, 165, 161, 162, 160, 174, 176, 183, 183, 185,\n        181, 178, 172, 167, 167, 169, 165],\n       [155, 159, 165, 168, 167, 166, 165, 165, 173, 176, 179, 183, 192,\n        197, 192, 182, 172, 169, 165, 162],\n       [158, 160, 163, 165, 164, 165, 167, 170, 168, 170, 171, 174, 185,\n        197, 197, 188, 178, 172, 164, 158],\n       [157, 157, 157, 155, 154, 156, 161, 165, 163, 166, 165, 163, 172,\n        187, 193, 188, 176, 170, 162, 158],\n       [162, 163, 164, 166, 168, 169, 169, 170, 167, 164, 163, 167, 175,\n        182, 185, 183, 181, 172, 165, 166],\n       [158, 160, 164, 168, 171, 173, 175, 175, 178, 177, 178, 180, 183,\n        184, 183, 182, 178, 173, 172, 167]], dtype=uint8)"
     },
     "execution_count": 40,
     "metadata": {},
     "output_type": "execute_result"
    }
   ],
   "source": [
    "b"
   ],
   "metadata": {
    "collapsed": false
   }
  },
  {
   "cell_type": "code",
   "execution_count": 40,
   "outputs": [],
   "source": [],
   "metadata": {
    "collapsed": false
   }
  }
 ],
 "metadata": {
  "kernelspec": {
   "display_name": "Python 3",
   "language": "python",
   "name": "python3"
  },
  "language_info": {
   "codemirror_mode": {
    "name": "ipython",
    "version": 2
   },
   "file_extension": ".py",
   "mimetype": "text/x-python",
   "name": "python",
   "nbconvert_exporter": "python",
   "pygments_lexer": "ipython2",
   "version": "2.7.6"
  }
 },
 "nbformat": 4,
 "nbformat_minor": 0
}
